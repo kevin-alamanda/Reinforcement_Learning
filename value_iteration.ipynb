{
 "cells": [
  {
   "cell_type": "code",
   "execution_count": null,
   "metadata": {},
   "outputs": [],
   "source": [
    "def value_iteration(mdp, discount_factor, theta, current_state, value_function, policy):\n",
    "\n",
    "    # calculate bellman equation\n",
    "    v = value_function[current_state]\n",
    "\n",
    "    for a in mdp.actions:\n",
    "        for s_, p, r in mdp.transitions[current_state][a]:\n",
    "            value_function[current_state] = max(sum(p * (r + discount_factor * value_iteration(mdp, discount_factor, theta, s_, value_function, policy)))) \n",
    "\n",
    "    # Update the policy\n",
    "    policy[current_state] = max(mdp.transitions[current_state], key=lambda x: sum(p * (r + discount_factor * value_iteration(mdp, discount_factor, theta, s_, value_function, policy))\n",
    "                                                                for s_, p, r in mdp.transitions[current_state][x]))\n",
    "\n",
    "    # Check for convergence\n",
    "    if abs(v - value_function[current_state]) < theta:\n",
    "        return value_function, policy\n",
    "    else:\n",
    "        for s in mdp.states:\n",
    "            value_iteration(mdp, discount_factor, theta, s, value_function, policy)\n",
    "        return value_function, policy\n",
    "    \n",
    "   \n"
   ]
  },
  {
   "cell_type": "code",
   "execution_count": null,
   "metadata": {},
   "outputs": [],
   "source": [
    "transitions = {\n",
    "    'Poor_Unknown': {\n",
    "        'advertise': [('Poor_Famous', 0.5, 0), ('Poor_Unknown', 0.5, 0)],\n",
    "        'save': [('Poor_Unknown', 1, 0)]\n",
    "    },\n",
    "    'Poor_Famous': {\n",
    "        'advertise': [('Poor_Famous', 1, 0)],\n",
    "        'save': [('Rich_Famous', 0.5, 10), ('Poor_Unknown', 0.5, 0)]\n",
    "    },\n",
    "    'Rich_Unknown': {\n",
    "        'advertise': [('Poor_Unknown', 0.5, 0), ('Poor_Famous', 0.5, 0)],\n",
    "        'save': [('Poor_Unknown', 0.5, 0), ('Rich_Unknown', 0.5, 10)]\n",
    "    },\n",
    "    'Rich_Famous': {\n",
    "        'advertise': [('Poor_Famous', 1, 0)],\n",
    "        'save': [('Rich_Unknown', 0.5, 10), ('Rich_Famous', 0.5, 10)]\n",
    "    }\n",
    "}"
   ]
  },
  {
   "cell_type": "code",
   "execution_count": null,
   "metadata": {},
   "outputs": [],
   "source": [
    "value_function = {s: 0 for s in mdp.states}\n",
    "policy = {s: None for s in mdp.states}\n",
    "value_function, policy = value_iteration(mdp, discount_factor, theta, mdp.states[0], value_function, policy)"
   ]
  }
 ],
 "metadata": {
  "language_info": {
   "name": "python"
  },
  "orig_nbformat": 4
 },
 "nbformat": 4,
 "nbformat_minor": 2
}
