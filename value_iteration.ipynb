{
 "cells": [
  {
   "cell_type": "code",
   "execution_count": 13,
   "metadata": {},
   "outputs": [],
   "source": [
    "import numpy as np\n",
    "from tabulate import tabulate"
   ]
  },
  {
   "cell_type": "code",
   "execution_count": 14,
   "metadata": {},
   "outputs": [],
   "source": [
    "transitions = {\n",
    "    'Poor_Unknown': {\n",
    "        'save': [('Poor_Unknown', 1, 0)],\n",
    "        'advertise': [('Poor_Famous', 0.5, 0), ('Poor_Unknown', 0.5, 0)]\n",
    "    },\n",
    "    'Poor_Famous': {\n",
    "        'save': [('Rich_Famous', 0.5, 10), ('Poor_Unknown', 0.5, 0)],\n",
    "        'advertise': [('Poor_Famous', 1, 0)]\n",
    "    },\n",
    "    'Rich_Unknown': {\n",
    "        'save': [('Poor_Unknown', 0.5, 0), ('Rich_Unknown', 0.5, 10)],\n",
    "        'advertise': [('Poor_Unknown', 0.5, 0), ('Poor_Famous', 0.5, 0)]\n",
    "    },\n",
    "    'Rich_Famous': {\n",
    "        'save': [('Rich_Unknown', 0.5, 10), ('Rich_Famous', 0.5, 10)],\n",
    "        'advertise': [('Poor_Famous', 1, 0)]\n",
    "    }\n",
    "}"
   ]
  },
  {
   "cell_type": "code",
   "execution_count": 15,
   "metadata": {},
   "outputs": [],
   "source": [
    "class MDP:\n",
    "    def __init__(self, transitions):\n",
    "        self.states = list(transitions.keys())\n",
    "        self.actions = list(transitions[self.states[0]].keys())\n",
    "        self.transitions = transitions\n",
    "        \n",
    "mdp = MDP(transitions)"
   ]
  },
  {
   "cell_type": "code",
   "execution_count": 16,
   "metadata": {},
   "outputs": [],
   "source": [
    "value_matrix = [[(0.0, 0), (0.0, 0) , (10.0, 0), (10.0, 0)]]"
   ]
  },
  {
   "cell_type": "code",
   "execution_count": 17,
   "metadata": {},
   "outputs": [
    {
     "data": {
      "text/plain": [
       "['save', 'advertise']"
      ]
     },
     "execution_count": 17,
     "metadata": {},
     "output_type": "execute_result"
    }
   ],
   "source": [
    "mdp.actions"
   ]
  },
  {
   "cell_type": "code",
   "execution_count": 18,
   "metadata": {},
   "outputs": [],
   "source": [
    "def func(discount_factor, horizons):\n",
    "    if horizons == 0:\n",
    "        return np.array([0,0,10,10])\n",
    "    else:\n",
    "        prev = func(discount_factor, horizons - 1)\n",
    "        V_PU = np.array([0.9*(prev[0]), 0.9*(0.5 * prev[0] + 0.5 * prev[1])])\n",
    "        V_PF = np.array([discount_factor * (0.5 * prev[3] + 0.5 * prev[0]), discount_factor * (prev[1])])\n",
    "        V_RU = np.array([10 + discount_factor * (0.5 * prev[2] + 0.5 * prev[0]), 10 + discount_factor * (0.5 * prev[1] + 0.5 * prev[0])])\n",
    "        V_RF = np.array([10 + discount_factor * (0.5 * prev[2] + 0.5 * prev[3]), 10 + discount_factor * prev[1]])\n",
    "        value_matrix.append([(np.max(V_PU), mdp.actions[np.argmax(V_PU)]), (np.max(V_PF), mdp.actions[np.argmax(V_PF)]), (np.max(V_RU), mdp.actions[np.argmax(V_RU)]), (np.max(V_RF), mdp.actions[np.argmax(V_RF)])])\n",
    "        #print(* [np.max(V_PU), np.max(V_PF), np.max(V_RU), np.max(V_RF)])\n",
    "        return np.array([np.max(V_PU), np.max(V_PF), np.max(V_RU), np.max(V_RF)])\n",
    "    "
   ]
  },
  {
   "cell_type": "code",
   "execution_count": 19,
   "metadata": {},
   "outputs": [],
   "source": [
    "_ = func(0.9, 6)"
   ]
  },
  {
   "cell_type": "code",
   "execution_count": 20,
   "metadata": {},
   "outputs": [
    {
     "name": "stdout",
     "output_type": "stream",
     "text": [
      "╒═══════════════════════════════════╤══════════════════════════════╤══════════════════════════════╤══════════════════════════════╕\n",
      "│               V(PU)               │            V(PF)             │            V(RU)             │            V(RF)             │\n",
      "╞═══════════════════════════════════╪══════════════════════════════╪══════════════════════════════╪══════════════════════════════╡\n",
      "│             (0.0, 0)              │           (0.0, 0)           │          (10.0, 0)           │          (10.0, 0)           │\n",
      "├───────────────────────────────────┼──────────────────────────────┼──────────────────────────────┼──────────────────────────────┤\n",
      "│           (0.0, 'save')           │        (4.5, 'save')         │        (14.5, 'save')        │        (19.0, 'save')        │\n",
      "├───────────────────────────────────┼──────────────────────────────┼──────────────────────────────┼──────────────────────────────┤\n",
      "│       (2.025, 'advertise')        │        (8.55, 'save')        │       (16.525, 'save')       │ (25.075000000000003, 'save') │\n",
      "├───────────────────────────────────┼──────────────────────────────┼──────────────────────────────┼──────────────────────────────┤\n",
      "│ (4.758750000000001, 'advertise')  │       (12.195, 'save')       │ (18.347499999999997, 'save') │ (28.720000000000002, 'save') │\n",
      "├───────────────────────────────────┼──────────────────────────────┼──────────────────────────────┼──────────────────────────────┤\n",
      "│     (7.6291875, 'advertise')      │ (15.065437500000003, 'save') │     (20.3978125, 'save')     │ (31.180374999999998, 'save') │\n",
      "├───────────────────────────────────┼──────────────────────────────┼──────────────────────────────┼──────────────────────────────┤\n",
      "│ (10.212581250000001, 'advertise') │    (17.464303125, 'save')    │      (22.61215, 'save')      │    (33.210184375, 'save')    │\n",
      "├───────────────────────────────────┼──────────────────────────────┼──────────────────────────────┼──────────────────────────────┤\n",
      "│   (12.45459796875, 'advertise')   │   (19.54024453125, 'save')   │ (24.771129062500002, 'save') │ (35.120050468749994, 'save') │\n",
      "╘═══════════════════════════════════╧══════════════════════════════╧══════════════════════════════╧══════════════════════════════╛\n"
     ]
    }
   ],
   "source": [
    "print(tabulate(value_matrix, headers=['V(PU)', 'V(PF)', 'V(RU)', 'V(RF)'], tablefmt='fancy_grid', numalign='center', stralign='center'))"
   ]
  }
 ],
 "metadata": {
  "kernelspec": {
   "display_name": "base",
   "language": "python",
   "name": "python3"
  },
  "language_info": {
   "codemirror_mode": {
    "name": "ipython",
    "version": 3
   },
   "file_extension": ".py",
   "mimetype": "text/x-python",
   "name": "python",
   "nbconvert_exporter": "python",
   "pygments_lexer": "ipython3",
   "version": "3.9.7"
  },
  "orig_nbformat": 4,
  "vscode": {
   "interpreter": {
    "hash": "ad2bdc8ecc057115af97d19610ffacc2b4e99fae6737bb82f5d7fb13d2f2c186"
   }
  }
 },
 "nbformat": 4,
 "nbformat_minor": 2
}
